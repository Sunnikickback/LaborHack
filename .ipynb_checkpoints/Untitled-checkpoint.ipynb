{
 "cells": [
  {
   "cell_type": "code",
   "execution_count": 1,
   "metadata": {},
   "outputs": [
    {
     "name": "stdout",
     "output_type": "stream",
     "text": [
      "Requirement already satisfied: numpy in c:\\users\\sunni\\anaconda3\\lib\\site-packages (1.18.1)\n"
     ]
    }
   ],
   "source": [
    "!pip install numpy\n",
    "!pip install pandas\n",
    "!pip install -U arrow"
   ]
  },
  {
   "cell_type": "code",
   "execution_count": 13,
   "metadata": {},
   "outputs": [
    {
     "name": "stdout",
     "output_type": "stream",
     "text": [
      "Collecting scikit-learn\n",
      "  Downloading scikit_learn-0.23.1-cp37-cp37m-win_amd64.whl (6.8 MB)\n",
      "Requirement already satisfied, skipping upgrade: numpy>=1.13.3 in c:\\users\\sunni\\anaconda3\\lib\\site-packages (from scikit-learn) (1.18.1)\n",
      "Collecting threadpoolctl>=2.0.0\n",
      "  Downloading threadpoolctl-2.1.0-py3-none-any.whl (12 kB)\n",
      "Requirement already satisfied, skipping upgrade: joblib>=0.11 in c:\\users\\sunni\\anaconda3\\lib\\site-packages (from scikit-learn) (0.14.1)\n",
      "Requirement already satisfied, skipping upgrade: scipy>=0.19.1 in c:\\users\\sunni\\anaconda3\\lib\\site-packages (from scikit-learn) (1.4.1)\n",
      "Installing collected packages: threadpoolctl, scikit-learn\n",
      "  Attempting uninstall: scikit-learn\n",
      "    Found existing installation: scikit-learn 0.22.1\n",
      "    Uninstalling scikit-learn-0.22.1:\n",
      "      Successfully uninstalled scikit-learn-0.22.1\n",
      "Successfully installed scikit-learn-0.23.1 threadpoolctl-2.1.0\n"
     ]
    }
   ],
   "source": [
    "!pip install -U scikit-learn"
   ]
  },
  {
   "cell_type": "code",
   "execution_count": 3,
   "metadata": {},
   "outputs": [],
   "source": []
  },
  {
   "cell_type": "code",
   "execution_count": 2,
   "metadata": {},
   "outputs": [],
   "source": [
    "import pandas as pd\n",
    "import numpy as np\n",
    "import arrow\n",
    "from collections import Counter"
   ]
  },
  {
   "cell_type": "code",
   "execution_count": null,
   "metadata": {},
   "outputs": [],
   "source": []
  },
  {
   "cell_type": "code",
   "execution_count": 3,
   "metadata": {},
   "outputs": [
    {
     "data": {
      "text/html": [
       "<div>\n",
       "<style scoped>\n",
       "    .dataframe tbody tr th:only-of-type {\n",
       "        vertical-align: middle;\n",
       "    }\n",
       "\n",
       "    .dataframe tbody tr th {\n",
       "        vertical-align: top;\n",
       "    }\n",
       "\n",
       "    .dataframe thead th {\n",
       "        text-align: right;\n",
       "    }\n",
       "</style>\n",
       "<table border=\"1\" class=\"dataframe\">\n",
       "  <thead>\n",
       "    <tr style=\"text-align: right;\">\n",
       "      <th></th>\n",
       "      <th>index</th>\n",
       "      <th>id</th>\n",
       "      <th>name</th>\n",
       "      <th>name.lemm</th>\n",
       "      <th>area.name</th>\n",
       "      <th>city</th>\n",
       "      <th>company.id</th>\n",
       "      <th>company</th>\n",
       "      <th>company_link</th>\n",
       "      <th>publication_date</th>\n",
       "      <th>...</th>\n",
       "      <th>schedule</th>\n",
       "      <th>schedule.name</th>\n",
       "      <th>experience</th>\n",
       "      <th>experience.name</th>\n",
       "      <th>key_skills</th>\n",
       "      <th>specializations</th>\n",
       "      <th>specializations.names</th>\n",
       "      <th>description</th>\n",
       "      <th>description.lemm</th>\n",
       "      <th>type</th>\n",
       "    </tr>\n",
       "  </thead>\n",
       "  <tbody>\n",
       "    <tr>\n",
       "      <th>0</th>\n",
       "      <td>0</td>\n",
       "      <td>17686451</td>\n",
       "      <td>Менеджер по туризму</td>\n",
       "      <td>менеджер туризм</td>\n",
       "      <td>Санкт-Петербург</td>\n",
       "      <td>Санкт-Петербург</td>\n",
       "      <td>605490</td>\n",
       "      <td>007, центр услуг</td>\n",
       "      <td>https://hh.ru/employer/605490</td>\n",
       "      <td>2016-08-21T14:52:35+0300</td>\n",
       "      <td>...</td>\n",
       "      <td>fullDay</td>\n",
       "      <td>Полный день</td>\n",
       "      <td>between1And3</td>\n",
       "      <td>От 1 года до 3 лет</td>\n",
       "      <td>NaN</td>\n",
       "      <td>17.334 17.242 17.149 22.223 22.39 22.199</td>\n",
       "      <td>Продажи - Услуги для населения | Продажи - Пря...</td>\n",
       "      <td>Обязанности:  Работа с туристами (физические и...</td>\n",
       "      <td>обязанность работа турист физический юридическ...</td>\n",
       "      <td>train</td>\n",
       "    </tr>\n",
       "    <tr>\n",
       "      <th>1</th>\n",
       "      <td>1</td>\n",
       "      <td>17840390</td>\n",
       "      <td>Помощник руководителя</td>\n",
       "      <td>помощник руководитель</td>\n",
       "      <td>Санкт-Петербург</td>\n",
       "      <td>unknown</td>\n",
       "      <td>605490</td>\n",
       "      <td>007, центр услуг</td>\n",
       "      <td>https://hh.ru/employer/605490</td>\n",
       "      <td>2016-08-21T14:28:29+0300</td>\n",
       "      <td>...</td>\n",
       "      <td>fullDay</td>\n",
       "      <td>Полный день</td>\n",
       "      <td>between1And3</td>\n",
       "      <td>От 1 года до 3 лет</td>\n",
       "      <td>NaN</td>\n",
       "      <td>4.205 4.429 6.319 6.247 2.249</td>\n",
       "      <td>Административный персонал - Персональный ассис...</td>\n",
       "      <td>Вакансия открыта в рамках отдела строительно-о...</td>\n",
       "      <td>вакансия открывать рамка отдел строительный от...</td>\n",
       "      <td>train</td>\n",
       "    </tr>\n",
       "    <tr>\n",
       "      <th>2</th>\n",
       "      <td>3</td>\n",
       "      <td>17665840</td>\n",
       "      <td>Аналитик</td>\n",
       "      <td>аналитик</td>\n",
       "      <td>Санкт-Петербург</td>\n",
       "      <td>unknown</td>\n",
       "      <td>605490</td>\n",
       "      <td>007, центр услуг</td>\n",
       "      <td>https://hh.ru/employer/605490</td>\n",
       "      <td>2016-08-19T11:57:57+0300</td>\n",
       "      <td>...</td>\n",
       "      <td>fullDay</td>\n",
       "      <td>Полный день</td>\n",
       "      <td>between1And3</td>\n",
       "      <td>От 1 года до 3 лет</td>\n",
       "      <td>NaN</td>\n",
       "      <td>1.117 1.327 1.25</td>\n",
       "      <td>Информационные технологии, интернет, телеком -...</td>\n",
       "      <td>Обязанности:  Работа в рамках отдела корпорати...</td>\n",
       "      <td>обязанность работа рамка отдел корпоративный п...</td>\n",
       "      <td>train</td>\n",
       "    </tr>\n",
       "    <tr>\n",
       "      <th>3</th>\n",
       "      <td>4</td>\n",
       "      <td>17914658</td>\n",
       "      <td>Авиакассир</td>\n",
       "      <td>авиакассир</td>\n",
       "      <td>Санкт-Петербург</td>\n",
       "      <td>Санкт-Петербург</td>\n",
       "      <td>605490</td>\n",
       "      <td>007, центр услуг</td>\n",
       "      <td>https://hh.ru/employer/605490</td>\n",
       "      <td>2016-07-29T16:17:47+0300</td>\n",
       "      <td>...</td>\n",
       "      <td>shift</td>\n",
       "      <td>Сменный график</td>\n",
       "      <td>between1And3</td>\n",
       "      <td>От 1 года до 3 лет</td>\n",
       "      <td>NaN</td>\n",
       "      <td>22.11 21.12 17.334</td>\n",
       "      <td>Туризм, гостиницы, рестораны - Авиабилеты | Тр...</td>\n",
       "      <td>Обязанности:  Бронирование и выписка авиабилет...</td>\n",
       "      <td>обязанность бронирование выписка авиабилет сис...</td>\n",
       "      <td>train</td>\n",
       "    </tr>\n",
       "    <tr>\n",
       "      <th>4</th>\n",
       "      <td>5</td>\n",
       "      <td>17665632</td>\n",
       "      <td>Бухгалтер</td>\n",
       "      <td>бухгалтер</td>\n",
       "      <td>Санкт-Петербург</td>\n",
       "      <td>Санкт-Петербург</td>\n",
       "      <td>605490</td>\n",
       "      <td>007, центр услуг</td>\n",
       "      <td>https://hh.ru/employer/605490</td>\n",
       "      <td>2016-07-18T15:39:05+0300</td>\n",
       "      <td>...</td>\n",
       "      <td>fullDay</td>\n",
       "      <td>Полный день</td>\n",
       "      <td>between3And6</td>\n",
       "      <td>От 3 до 6 лет</td>\n",
       "      <td>NaN</td>\n",
       "      <td>2.43 2.335 2.463 2.337 2.469 5.42</td>\n",
       "      <td>Бухгалтерия, управленческий учет, финансы пред...</td>\n",
       "      <td>Обязанности:  Ведение бухгалтерского и налогов...</td>\n",
       "      <td>обязанность ведение бухгалтерский налоговый уч...</td>\n",
       "      <td>train</td>\n",
       "    </tr>\n",
       "  </tbody>\n",
       "</table>\n",
       "<p>5 rows × 24 columns</p>\n",
       "</div>"
      ],
      "text/plain": [
       "   index        id                   name              name.lemm  \\\n",
       "0      0  17686451    Менеджер по туризму        менеджер туризм   \n",
       "1      1  17840390  Помощник руководителя  помощник руководитель   \n",
       "2      3  17665840               Аналитик               аналитик   \n",
       "3      4  17914658             Авиакассир             авиакассир   \n",
       "4      5  17665632              Бухгалтер              бухгалтер   \n",
       "\n",
       "         area.name             city  company.id           company  \\\n",
       "0  Санкт-Петербург  Санкт-Петербург      605490  007, центр услуг   \n",
       "1  Санкт-Петербург          unknown      605490  007, центр услуг   \n",
       "2  Санкт-Петербург          unknown      605490  007, центр услуг   \n",
       "3  Санкт-Петербург  Санкт-Петербург      605490  007, центр услуг   \n",
       "4  Санкт-Петербург  Санкт-Петербург      605490  007, центр услуг   \n",
       "\n",
       "                    company_link          publication_date  ...  schedule  \\\n",
       "0  https://hh.ru/employer/605490  2016-08-21T14:52:35+0300  ...   fullDay   \n",
       "1  https://hh.ru/employer/605490  2016-08-21T14:28:29+0300  ...   fullDay   \n",
       "2  https://hh.ru/employer/605490  2016-08-19T11:57:57+0300  ...   fullDay   \n",
       "3  https://hh.ru/employer/605490  2016-07-29T16:17:47+0300  ...     shift   \n",
       "4  https://hh.ru/employer/605490  2016-07-18T15:39:05+0300  ...   fullDay   \n",
       "\n",
       "    schedule.name    experience     experience.name key_skills  \\\n",
       "0     Полный день  between1And3  От 1 года до 3 лет        NaN   \n",
       "1     Полный день  between1And3  От 1 года до 3 лет        NaN   \n",
       "2     Полный день  between1And3  От 1 года до 3 лет        NaN   \n",
       "3  Сменный график  between1And3  От 1 года до 3 лет        NaN   \n",
       "4     Полный день  between3And6       От 3 до 6 лет        NaN   \n",
       "\n",
       "                            specializations  \\\n",
       "0  17.334 17.242 17.149 22.223 22.39 22.199   \n",
       "1             4.205 4.429 6.319 6.247 2.249   \n",
       "2                          1.117 1.327 1.25   \n",
       "3                        22.11 21.12 17.334   \n",
       "4         2.43 2.335 2.463 2.337 2.469 5.42   \n",
       "\n",
       "                               specializations.names  \\\n",
       "0  Продажи - Услуги для населения | Продажи - Пря...   \n",
       "1  Административный персонал - Персональный ассис...   \n",
       "2  Информационные технологии, интернет, телеком -...   \n",
       "3  Туризм, гостиницы, рестораны - Авиабилеты | Тр...   \n",
       "4  Бухгалтерия, управленческий учет, финансы пред...   \n",
       "\n",
       "                                         description  \\\n",
       "0  Обязанности:  Работа с туристами (физические и...   \n",
       "1  Вакансия открыта в рамках отдела строительно-о...   \n",
       "2  Обязанности:  Работа в рамках отдела корпорати...   \n",
       "3  Обязанности:  Бронирование и выписка авиабилет...   \n",
       "4  Обязанности:  Ведение бухгалтерского и налогов...   \n",
       "\n",
       "                                    description.lemm   type  \n",
       "0  обязанность работа турист физический юридическ...  train  \n",
       "1  вакансия открывать рамка отдел строительный от...  train  \n",
       "2  обязанность работа рамка отдел корпоративный п...  train  \n",
       "3  обязанность бронирование выписка авиабилет сис...  train  \n",
       "4  обязанность ведение бухгалтерский налоговый уч...  train  \n",
       "\n",
       "[5 rows x 24 columns]"
      ]
     },
     "execution_count": 3,
     "metadata": {},
     "output_type": "execute_result"
    }
   ],
   "source": [
    "df = pd.read_csv(\"C:/Users/Sunni/vacs_train.csv\", sep = ';', index_col=False)\n",
    "df.head()"
   ]
  },
  {
   "cell_type": "code",
   "execution_count": 10,
   "metadata": {},
   "outputs": [],
   "source": [
    "def Clusterization(X):  \n",
    "    km = KMeans(n_clusters = 10, random_state = 42)\n",
    "    clusters_train = km.fit_predict(X)\n",
    "    km.fit(X)\n",
    "    x = km.predict(y)\n",
    "    return x\n",
    "def preproc(df):\n",
    "    #df.loc[df.city == 'unknown', 'city'] = 'Санкт-Петербург'\n",
    "    df.loc[df.salary_from < 100., \"salary_from\"] *= 1000\n",
    "    df.fillna(value='', inplace=True)\n",
    "    df = pd.get_dummies(df,columns = ['experience', 'schedule', 'employment'])\n",
    "    df['key_skills'] = df['key_skills'].apply(lambda x: 0 if(x == '') else len(x.split('|')) + 1)\n",
    "    df = df.drop(columns = ['name.lemm','publication_date','area.name', 'id', 'city','name','employment.name','company_link','type','salary_currency', 'schedule.name', 'experience.name', 'description','company','company.id', 'specializations.names'])\n",
    "    #word2vec\n",
    "    #df['cluster'] = Clusterization(df.loc[:['name.lemm','salary_from']])\n",
    "    return df"
   ]
  },
  {
   "cell_type": "code",
   "execution_count": 11,
   "metadata": {},
   "outputs": [],
   "source": [
    "df = preproc(df)"
   ]
  },
  {
   "cell_type": "code",
   "execution_count": 12,
   "metadata": {},
   "outputs": [
    {
     "data": {
      "text/html": [
       "<div>\n",
       "<style scoped>\n",
       "    .dataframe tbody tr th:only-of-type {\n",
       "        vertical-align: middle;\n",
       "    }\n",
       "\n",
       "    .dataframe tbody tr th {\n",
       "        vertical-align: top;\n",
       "    }\n",
       "\n",
       "    .dataframe thead th {\n",
       "        text-align: right;\n",
       "    }\n",
       "</style>\n",
       "<table border=\"1\" class=\"dataframe\">\n",
       "  <thead>\n",
       "    <tr style=\"text-align: right;\">\n",
       "      <th></th>\n",
       "      <th>index</th>\n",
       "      <th>name.lemm</th>\n",
       "      <th>salary_from</th>\n",
       "      <th>key_skills</th>\n",
       "      <th>specializations</th>\n",
       "      <th>description.lemm</th>\n",
       "      <th>experience_between1And3</th>\n",
       "      <th>experience_between3And6</th>\n",
       "      <th>experience_moreThan6</th>\n",
       "      <th>experience_noExperience</th>\n",
       "      <th>schedule_flexible</th>\n",
       "      <th>schedule_flyInFlyOut</th>\n",
       "      <th>schedule_fullDay</th>\n",
       "      <th>schedule_remote</th>\n",
       "      <th>schedule_shift</th>\n",
       "      <th>employment_full</th>\n",
       "      <th>employment_part</th>\n",
       "      <th>employment_probation</th>\n",
       "      <th>employment_project</th>\n",
       "    </tr>\n",
       "  </thead>\n",
       "  <tbody>\n",
       "    <tr>\n",
       "      <th>0</th>\n",
       "      <td>0</td>\n",
       "      <td>менеджер туризм</td>\n",
       "      <td>40000.0</td>\n",
       "      <td>0</td>\n",
       "      <td>17.334 17.242 17.149 22.223 22.39 22.199</td>\n",
       "      <td>обязанность работа турист физический юридическ...</td>\n",
       "      <td>1</td>\n",
       "      <td>0</td>\n",
       "      <td>0</td>\n",
       "      <td>0</td>\n",
       "      <td>0</td>\n",
       "      <td>0</td>\n",
       "      <td>1</td>\n",
       "      <td>0</td>\n",
       "      <td>0</td>\n",
       "      <td>1</td>\n",
       "      <td>0</td>\n",
       "      <td>0</td>\n",
       "      <td>0</td>\n",
       "    </tr>\n",
       "    <tr>\n",
       "      <th>1</th>\n",
       "      <td>1</td>\n",
       "      <td>помощник руководитель</td>\n",
       "      <td>40000.0</td>\n",
       "      <td>0</td>\n",
       "      <td>4.205 4.429 6.319 6.247 2.249</td>\n",
       "      <td>вакансия открывать рамка отдел строительный от...</td>\n",
       "      <td>1</td>\n",
       "      <td>0</td>\n",
       "      <td>0</td>\n",
       "      <td>0</td>\n",
       "      <td>0</td>\n",
       "      <td>0</td>\n",
       "      <td>1</td>\n",
       "      <td>0</td>\n",
       "      <td>0</td>\n",
       "      <td>1</td>\n",
       "      <td>0</td>\n",
       "      <td>0</td>\n",
       "      <td>0</td>\n",
       "    </tr>\n",
       "    <tr>\n",
       "      <th>2</th>\n",
       "      <td>3</td>\n",
       "      <td>аналитик</td>\n",
       "      <td>30000.0</td>\n",
       "      <td>0</td>\n",
       "      <td>1.117 1.327 1.25</td>\n",
       "      <td>обязанность работа рамка отдел корпоративный п...</td>\n",
       "      <td>1</td>\n",
       "      <td>0</td>\n",
       "      <td>0</td>\n",
       "      <td>0</td>\n",
       "      <td>0</td>\n",
       "      <td>0</td>\n",
       "      <td>1</td>\n",
       "      <td>0</td>\n",
       "      <td>0</td>\n",
       "      <td>1</td>\n",
       "      <td>0</td>\n",
       "      <td>0</td>\n",
       "      <td>0</td>\n",
       "    </tr>\n",
       "    <tr>\n",
       "      <th>3</th>\n",
       "      <td>4</td>\n",
       "      <td>авиакассир</td>\n",
       "      <td>30000.0</td>\n",
       "      <td>0</td>\n",
       "      <td>22.11 21.12 17.334</td>\n",
       "      <td>обязанность бронирование выписка авиабилет сис...</td>\n",
       "      <td>1</td>\n",
       "      <td>0</td>\n",
       "      <td>0</td>\n",
       "      <td>0</td>\n",
       "      <td>0</td>\n",
       "      <td>0</td>\n",
       "      <td>0</td>\n",
       "      <td>0</td>\n",
       "      <td>1</td>\n",
       "      <td>1</td>\n",
       "      <td>0</td>\n",
       "      <td>0</td>\n",
       "      <td>0</td>\n",
       "    </tr>\n",
       "    <tr>\n",
       "      <th>4</th>\n",
       "      <td>5</td>\n",
       "      <td>бухгалтер</td>\n",
       "      <td>25000.0</td>\n",
       "      <td>0</td>\n",
       "      <td>2.43 2.335 2.463 2.337 2.469 5.42</td>\n",
       "      <td>обязанность ведение бухгалтерский налоговый уч...</td>\n",
       "      <td>0</td>\n",
       "      <td>1</td>\n",
       "      <td>0</td>\n",
       "      <td>0</td>\n",
       "      <td>0</td>\n",
       "      <td>0</td>\n",
       "      <td>1</td>\n",
       "      <td>0</td>\n",
       "      <td>0</td>\n",
       "      <td>1</td>\n",
       "      <td>0</td>\n",
       "      <td>0</td>\n",
       "      <td>0</td>\n",
       "    </tr>\n",
       "  </tbody>\n",
       "</table>\n",
       "</div>"
      ],
      "text/plain": [
       "   index              name.lemm  salary_from  key_skills  \\\n",
       "0      0        менеджер туризм      40000.0           0   \n",
       "1      1  помощник руководитель      40000.0           0   \n",
       "2      3               аналитик      30000.0           0   \n",
       "3      4             авиакассир      30000.0           0   \n",
       "4      5              бухгалтер      25000.0           0   \n",
       "\n",
       "                            specializations  \\\n",
       "0  17.334 17.242 17.149 22.223 22.39 22.199   \n",
       "1             4.205 4.429 6.319 6.247 2.249   \n",
       "2                          1.117 1.327 1.25   \n",
       "3                        22.11 21.12 17.334   \n",
       "4         2.43 2.335 2.463 2.337 2.469 5.42   \n",
       "\n",
       "                                    description.lemm  experience_between1And3  \\\n",
       "0  обязанность работа турист физический юридическ...                        1   \n",
       "1  вакансия открывать рамка отдел строительный от...                        1   \n",
       "2  обязанность работа рамка отдел корпоративный п...                        1   \n",
       "3  обязанность бронирование выписка авиабилет сис...                        1   \n",
       "4  обязанность ведение бухгалтерский налоговый уч...                        0   \n",
       "\n",
       "   experience_between3And6  experience_moreThan6  experience_noExperience  \\\n",
       "0                        0                     0                        0   \n",
       "1                        0                     0                        0   \n",
       "2                        0                     0                        0   \n",
       "3                        0                     0                        0   \n",
       "4                        1                     0                        0   \n",
       "\n",
       "   schedule_flexible  schedule_flyInFlyOut  schedule_fullDay  schedule_remote  \\\n",
       "0                  0                     0                 1                0   \n",
       "1                  0                     0                 1                0   \n",
       "2                  0                     0                 1                0   \n",
       "3                  0                     0                 0                0   \n",
       "4                  0                     0                 1                0   \n",
       "\n",
       "   schedule_shift  employment_full  employment_part  employment_probation  \\\n",
       "0               0                1                0                     0   \n",
       "1               0                1                0                     0   \n",
       "2               0                1                0                     0   \n",
       "3               1                1                0                     0   \n",
       "4               0                1                0                     0   \n",
       "\n",
       "   employment_project  \n",
       "0                   0  \n",
       "1                   0  \n",
       "2                   0  \n",
       "3                   0  \n",
       "4                   0  "
      ]
     },
     "execution_count": 12,
     "metadata": {},
     "output_type": "execute_result"
    }
   ],
   "source": [
    "df.head()"
   ]
  },
  {
   "cell_type": "code",
   "execution_count": 7,
   "metadata": {},
   "outputs": [
    {
     "data": {
      "text/plain": [
       "'Бухгалтерия, управленческий учет, финансы предприятия - Бухгалтер | Бухгалтерия, управленческий учет, финансы предприятия - Учет заработной платы | Бухгалтерия, управленческий учет, финансы предприятия - Бухгалтер-калькулятор | Бухгалтерия, управленческий учет, финансы предприятия - Учет счетов и платежей | Бухгалтерия, управленческий учет, финансы предприятия - Первичная документация | Банки, инвестиции, лизинг - Бухгалтер'"
      ]
     },
     "execution_count": 7,
     "metadata": {},
     "output_type": "execute_result"
    }
   ],
   "source": []
  },
  {
   "cell_type": "code",
   "execution_count": null,
   "metadata": {},
   "outputs": [],
   "source": [
    "from sklearn.preprocessing import LabelEncoder, OneHotEncoder\n",
    "\n",
    "for i in range(len(df)):\n",
    "    s = df['specializations'][i]\n",
    "    arr = np.append(values = list(map(int,map(float, s.split()))), arr = arr)\n",
    "    \n"
   ]
  },
  {
   "cell_type": "code",
   "execution_count": null,
   "metadata": {},
   "outputs": [],
   "source": [
    "arr = np.array([])\n",
    "df[i].apply(lambda x: arr = np.append(values = list(map(int,map(float, x.split()))), arr = arr))"
   ]
  },
  {
   "cell_type": "code",
   "execution_count": null,
   "metadata": {},
   "outputs": [],
   "source": [
    "arr = np.unique(arr)\n",
    "label_encoder = LabelEncoder()\n",
    "corpus_encoded = label_encoder.fit_transform(arr)"
   ]
  },
  {
   "cell_type": "code",
   "execution_count": 23,
   "metadata": {},
   "outputs": [
    {
     "data": {
      "text/plain": [
       "OneHotEncoder(sparse=False)"
      ]
     },
     "execution_count": 23,
     "metadata": {},
     "output_type": "execute_result"
    }
   ],
   "source": [
    "onehot_encoder = OneHotEncoder(sparse=False)\n",
    "corpus_encoded = corpus_encoded.reshape(len(corpus_encoded), 1)\n",
    "onehot_encoder.fit(corpus_encoded)\n"
   ]
  },
  {
   "cell_type": "code",
   "execution_count": 26,
   "metadata": {},
   "outputs": [
    {
     "ename": "ValueError",
     "evalue": "Found unknown categories [17, 22] in column 0 during transform",
     "output_type": "error",
     "traceback": [
      "\u001b[1;31m---------------------------------------------------------------------------\u001b[0m",
      "\u001b[1;31mValueError\u001b[0m                                Traceback (most recent call last)",
      "\u001b[1;32m<ipython-input-26-a8a22db4728a>\u001b[0m in \u001b[0;36m<module>\u001b[1;34m\u001b[0m\n\u001b[0;32m      1\u001b[0m \u001b[0ma\u001b[0m \u001b[1;33m=\u001b[0m \u001b[0mnp\u001b[0m\u001b[1;33m.\u001b[0m\u001b[0marray\u001b[0m\u001b[1;33m(\u001b[0m\u001b[0mlist\u001b[0m\u001b[1;33m(\u001b[0m\u001b[0mmap\u001b[0m\u001b[1;33m(\u001b[0m\u001b[0mint\u001b[0m\u001b[1;33m,\u001b[0m \u001b[0mmap\u001b[0m\u001b[1;33m(\u001b[0m\u001b[0mfloat\u001b[0m\u001b[1;33m,\u001b[0m \u001b[0mdf\u001b[0m\u001b[1;33m[\u001b[0m\u001b[1;34m'specializations'\u001b[0m\u001b[1;33m]\u001b[0m\u001b[1;33m[\u001b[0m\u001b[1;36m0\u001b[0m\u001b[1;33m]\u001b[0m\u001b[1;33m.\u001b[0m\u001b[0msplit\u001b[0m\u001b[1;33m(\u001b[0m\u001b[1;33m)\u001b[0m\u001b[1;33m)\u001b[0m\u001b[1;33m)\u001b[0m\u001b[1;33m)\u001b[0m\u001b[1;33m)\u001b[0m\u001b[1;33m\u001b[0m\u001b[1;33m\u001b[0m\u001b[0m\n\u001b[0;32m      2\u001b[0m \u001b[0ma\u001b[0m \u001b[1;33m=\u001b[0m \u001b[0ma\u001b[0m\u001b[1;33m.\u001b[0m\u001b[0mreshape\u001b[0m\u001b[1;33m(\u001b[0m\u001b[0mlen\u001b[0m\u001b[1;33m(\u001b[0m\u001b[0ma\u001b[0m\u001b[1;33m)\u001b[0m\u001b[1;33m,\u001b[0m \u001b[1;36m1\u001b[0m\u001b[1;33m)\u001b[0m\u001b[1;33m\u001b[0m\u001b[1;33m\u001b[0m\u001b[0m\n\u001b[1;32m----> 3\u001b[1;33m \u001b[0monehot_encoder\u001b[0m\u001b[1;33m.\u001b[0m\u001b[0mtransform\u001b[0m\u001b[1;33m(\u001b[0m\u001b[0ma\u001b[0m\u001b[1;33m)\u001b[0m\u001b[1;33m\u001b[0m\u001b[1;33m\u001b[0m\u001b[0m\n\u001b[0m",
      "\u001b[1;32m~\\anaconda3\\lib\\site-packages\\sklearn\\preprocessing\\_encoders.py\u001b[0m in \u001b[0;36mtransform\u001b[1;34m(self, X)\u001b[0m\n\u001b[0;32m    426\u001b[0m         \u001b[0mcheck_is_fitted\u001b[0m\u001b[1;33m(\u001b[0m\u001b[0mself\u001b[0m\u001b[1;33m)\u001b[0m\u001b[1;33m\u001b[0m\u001b[1;33m\u001b[0m\u001b[0m\n\u001b[0;32m    427\u001b[0m         \u001b[1;31m# validation of X happens in _check_X called by _transform\u001b[0m\u001b[1;33m\u001b[0m\u001b[1;33m\u001b[0m\u001b[1;33m\u001b[0m\u001b[0m\n\u001b[1;32m--> 428\u001b[1;33m         \u001b[0mX_int\u001b[0m\u001b[1;33m,\u001b[0m \u001b[0mX_mask\u001b[0m \u001b[1;33m=\u001b[0m \u001b[0mself\u001b[0m\u001b[1;33m.\u001b[0m\u001b[0m_transform\u001b[0m\u001b[1;33m(\u001b[0m\u001b[0mX\u001b[0m\u001b[1;33m,\u001b[0m \u001b[0mhandle_unknown\u001b[0m\u001b[1;33m=\u001b[0m\u001b[0mself\u001b[0m\u001b[1;33m.\u001b[0m\u001b[0mhandle_unknown\u001b[0m\u001b[1;33m)\u001b[0m\u001b[1;33m\u001b[0m\u001b[1;33m\u001b[0m\u001b[0m\n\u001b[0m\u001b[0;32m    429\u001b[0m \u001b[1;33m\u001b[0m\u001b[0m\n\u001b[0;32m    430\u001b[0m         \u001b[0mn_samples\u001b[0m\u001b[1;33m,\u001b[0m \u001b[0mn_features\u001b[0m \u001b[1;33m=\u001b[0m \u001b[0mX_int\u001b[0m\u001b[1;33m.\u001b[0m\u001b[0mshape\u001b[0m\u001b[1;33m\u001b[0m\u001b[1;33m\u001b[0m\u001b[0m\n",
      "\u001b[1;32m~\\anaconda3\\lib\\site-packages\\sklearn\\preprocessing\\_encoders.py\u001b[0m in \u001b[0;36m_transform\u001b[1;34m(self, X, handle_unknown)\u001b[0m\n\u001b[0;32m    122\u001b[0m                     msg = (\"Found unknown categories {0} in column {1}\"\n\u001b[0;32m    123\u001b[0m                            \" during transform\".format(diff, i))\n\u001b[1;32m--> 124\u001b[1;33m                     \u001b[1;32mraise\u001b[0m \u001b[0mValueError\u001b[0m\u001b[1;33m(\u001b[0m\u001b[0mmsg\u001b[0m\u001b[1;33m)\u001b[0m\u001b[1;33m\u001b[0m\u001b[1;33m\u001b[0m\u001b[0m\n\u001b[0m\u001b[0;32m    125\u001b[0m                 \u001b[1;32melse\u001b[0m\u001b[1;33m:\u001b[0m\u001b[1;33m\u001b[0m\u001b[1;33m\u001b[0m\u001b[0m\n\u001b[0;32m    126\u001b[0m                     \u001b[1;31m# Set the problematic rows to an acceptable value and\u001b[0m\u001b[1;33m\u001b[0m\u001b[1;33m\u001b[0m\u001b[1;33m\u001b[0m\u001b[0m\n",
      "\u001b[1;31mValueError\u001b[0m: Found unknown categories [17, 22] in column 0 during transform"
     ]
    }
   ],
   "source": [
    "a = np.array(list(map(int, map(float, df['specializations'][0].split()))))\n",
    "a = a.reshape(len(a), 1)\n",
    "onehot_encoder.transform(a)"
   ]
  },
  {
   "cell_type": "code",
   "execution_count": 28,
   "metadata": {},
   "outputs": [
    {
     "data": {
      "text/plain": [
       "array([2., 5.])"
      ]
     },
     "execution_count": 28,
     "metadata": {},
     "output_type": "execute_result"
    }
   ],
   "source": [
    "arr"
   ]
  },
  {
   "cell_type": "code",
   "execution_count": 154,
   "metadata": {},
   "outputs": [
    {
     "data": {
      "text/plain": [
       "Counter({'shift': 32, 'fullDay': 39, 'flexible': 34, 'remote': 7})"
      ]
     },
     "execution_count": 154,
     "metadata": {},
     "output_type": "execute_result"
    }
   ],
   "source": [
    "Counter(df[df['salary_from'] < 4000]['schedule'])"
   ]
  },
  {
   "cell_type": "code",
   "execution_count": 9,
   "metadata": {},
   "outputs": [
    {
     "data": {
      "text/plain": [
       "Counter({'between1And3': 52010,\n",
       "         'between3And6': 18208,\n",
       "         'noExperience': 27513,\n",
       "         'moreThan6': 2270})"
      ]
     },
     "execution_count": 9,
     "metadata": {},
     "output_type": "execute_result"
    }
   ],
   "source": [
    "Counter(df['experience'])"
   ]
  },
  {
   "cell_type": "code",
   "execution_count": 45,
   "metadata": {},
   "outputs": [
    {
     "data": {
      "text/plain": [
       "False"
      ]
     },
     "execution_count": 45,
     "metadata": {},
     "output_type": "execute_result"
    }
   ],
   "source": [
    "df['key_skills'][0] == 'nan'"
   ]
  },
  {
   "cell_type": "code",
   "execution_count": 19,
   "metadata": {},
   "outputs": [],
   "source": [
    "s = '2.43 2.335 2.463 2.337 2.469 5.42' \n",
    "a = "
   ]
  },
  {
   "cell_type": "code",
   "execution_count": 29,
   "metadata": {},
   "outputs": [],
   "source": [
    "arr = np.array([])\n",
    "for i in range(len(df)):\n",
    "    arr = np.append(values = list(map(int,map(float, s.split()))), arr = arr)"
   ]
  },
  {
   "cell_type": "code",
   "execution_count": null,
   "metadata": {},
   "outputs": [],
   "source": [
    "arr[10]"
   ]
  },
  {
   "cell_type": "code",
   "execution_count": null,
   "metadata": {},
   "outputs": [],
   "source": []
  }
 ],
 "metadata": {
  "kernelspec": {
   "display_name": "Python 3",
   "language": "python",
   "name": "python3"
  },
  "language_info": {
   "codemirror_mode": {
    "name": "ipython",
    "version": 3
   },
   "file_extension": ".py",
   "mimetype": "text/x-python",
   "name": "python",
   "nbconvert_exporter": "python",
   "pygments_lexer": "ipython3",
   "version": "3.7.6"
  }
 },
 "nbformat": 4,
 "nbformat_minor": 4
}
